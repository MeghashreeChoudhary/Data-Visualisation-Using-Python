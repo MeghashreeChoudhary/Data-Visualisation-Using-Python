{
 "cells": [
  {
   "cell_type": "code",
   "execution_count": 1,
   "id": "43bc124f",
   "metadata": {},
   "outputs": [],
   "source": [
    "\n",
    "import numpy as np\n",
    "import pandas as pd\n",
    "import matplotlib.pyplot as plt\n",
    "%matplotlib inline\n",
    "import seaborn as sns\n",
    "from numpy.random import randn, randint, uniform, sample\n"
   ]
  },
  {
   "cell_type": "code",
   "execution_count": 2,
   "id": "192f1bab",
   "metadata": {},
   "outputs": [
    {
     "data": {
      "text/html": [
       "<div>\n",
       "<style scoped>\n",
       "    .dataframe tbody tr th:only-of-type {\n",
       "        vertical-align: middle;\n",
       "    }\n",
       "\n",
       "    .dataframe tbody tr th {\n",
       "        vertical-align: top;\n",
       "    }\n",
       "\n",
       "    .dataframe thead th {\n",
       "        text-align: right;\n",
       "    }\n",
       "</style>\n",
       "<table border=\"1\" class=\"dataframe\">\n",
       "  <thead>\n",
       "    <tr style=\"text-align: right;\">\n",
       "      <th></th>\n",
       "      <th>a</th>\n",
       "      <th>b</th>\n",
       "      <th>c</th>\n",
       "      <th>d</th>\n",
       "    </tr>\n",
       "  </thead>\n",
       "  <tbody>\n",
       "    <tr>\n",
       "      <th>0</th>\n",
       "      <td>0.380665</td>\n",
       "      <td>1.090735</td>\n",
       "      <td>0.816038</td>\n",
       "      <td>-0.138749</td>\n",
       "    </tr>\n",
       "    <tr>\n",
       "      <th>1</th>\n",
       "      <td>0.297009</td>\n",
       "      <td>1.285531</td>\n",
       "      <td>0.119512</td>\n",
       "      <td>0.349033</td>\n",
       "    </tr>\n",
       "    <tr>\n",
       "      <th>2</th>\n",
       "      <td>-0.063710</td>\n",
       "      <td>0.881805</td>\n",
       "      <td>0.382135</td>\n",
       "      <td>0.117449</td>\n",
       "    </tr>\n",
       "    <tr>\n",
       "      <th>3</th>\n",
       "      <td>-0.853288</td>\n",
       "      <td>0.263139</td>\n",
       "      <td>-0.542990</td>\n",
       "      <td>-0.481430</td>\n",
       "    </tr>\n",
       "    <tr>\n",
       "      <th>4</th>\n",
       "      <td>0.975175</td>\n",
       "      <td>-1.138695</td>\n",
       "      <td>-0.786329</td>\n",
       "      <td>-0.279302</td>\n",
       "    </tr>\n",
       "    <tr>\n",
       "      <th>5</th>\n",
       "      <td>0.650452</td>\n",
       "      <td>-1.694872</td>\n",
       "      <td>1.227500</td>\n",
       "      <td>0.279878</td>\n",
       "    </tr>\n",
       "    <tr>\n",
       "      <th>6</th>\n",
       "      <td>-0.121899</td>\n",
       "      <td>0.322542</td>\n",
       "      <td>-0.026552</td>\n",
       "      <td>0.660691</td>\n",
       "    </tr>\n",
       "    <tr>\n",
       "      <th>7</th>\n",
       "      <td>0.369304</td>\n",
       "      <td>-1.034789</td>\n",
       "      <td>0.051501</td>\n",
       "      <td>-0.662048</td>\n",
       "    </tr>\n",
       "    <tr>\n",
       "      <th>8</th>\n",
       "      <td>-1.454065</td>\n",
       "      <td>0.150114</td>\n",
       "      <td>0.126510</td>\n",
       "      <td>-0.707250</td>\n",
       "    </tr>\n",
       "    <tr>\n",
       "      <th>9</th>\n",
       "      <td>-0.546820</td>\n",
       "      <td>-0.929623</td>\n",
       "      <td>3.174605</td>\n",
       "      <td>-0.726861</td>\n",
       "    </tr>\n",
       "  </tbody>\n",
       "</table>\n",
       "</div>"
      ],
      "text/plain": [
       "          a         b         c         d\n",
       "0  0.380665  1.090735  0.816038 -0.138749\n",
       "1  0.297009  1.285531  0.119512  0.349033\n",
       "2 -0.063710  0.881805  0.382135  0.117449\n",
       "3 -0.853288  0.263139 -0.542990 -0.481430\n",
       "4  0.975175 -1.138695 -0.786329 -0.279302\n",
       "5  0.650452 -1.694872  1.227500  0.279878\n",
       "6 -0.121899  0.322542 -0.026552  0.660691\n",
       "7  0.369304 -1.034789  0.051501 -0.662048\n",
       "8 -1.454065  0.150114  0.126510 -0.707250\n",
       "9 -0.546820 -0.929623  3.174605 -0.726861"
      ]
     },
     "execution_count": 2,
     "metadata": {},
     "output_type": "execute_result"
    }
   ],
   "source": [
    "value=pd.DataFrame(randn(10,4), columns=['a','b','c','d'])\n",
    "value"
   ]
  },
  {
   "cell_type": "code",
   "execution_count": 8,
   "id": "6225041e",
   "metadata": {},
   "outputs": [
    {
     "data": {
      "text/plain": [
       "Text(0.5, 1.0, 'Bar Graph')"
      ]
     },
     "execution_count": 8,
     "metadata": {},
     "output_type": "execute_result"
    },
    {
     "data": {
      "image/png": "[encoded data removed]",
      "text/plain": [
       "<Figure size 648x648 with 1 Axes>"
      ]
     },
     "metadata": {
      "needs_background": "light"
     },
     "output_type": "display_data"
    }
   ],
   "source": [
    "value.plot(kind='bar',width=2,figsize=(9,9))\n",
    "plt.title(\"Bar Graph\")"
   ]
  },
  {
   "cell_type": "code",
   "execution_count": null,
   "id": "863c2b77",
   "metadata": {},
   "outputs": [],
   "source": []
  }
 ],
 "metadata": {
  "kernelspec": {
   "display_name": "Python 3",
   "language": "python",
   "name": "python3"
  },
  "language_info": {
   "codemirror_mode": {
    "name": "ipython",
    "version": 3
   },
   "file_extension": ".py",
   "mimetype": "text/x-python",
   "name": "python",
   "nbconvert_exporter": "python",
   "pygments_lexer": "ipython3",
   "version": "3.8.5"
  }
 },
 "nbformat": 4,
 "nbformat_minor": 5
}
